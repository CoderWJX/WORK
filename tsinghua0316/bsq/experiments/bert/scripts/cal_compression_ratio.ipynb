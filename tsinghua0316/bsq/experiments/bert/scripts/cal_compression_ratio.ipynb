{
 "cells": [
  {
   "cell_type": "code",
   "execution_count": 13,
   "metadata": {},
   "outputs": [],
   "source": [
    "import torch\n",
    "import numpy as np"
   ]
  },
  {
   "cell_type": "code",
   "execution_count": 14,
   "metadata": {},
   "outputs": [],
   "source": [
    "def cal_base_model(base_model):\n",
    "    cnt = 0\n",
    "    for k, v in base_model.items():\n",
    "        cnt += np.prod(list(v.shape))\n",
    "    basemodel_mems = cnt * 4\n",
    "    print(basemodel_mems/(1024*1024))\n",
    "    return basemodel_mems"
   ]
  },
  {
   "cell_type": "code",
   "execution_count": 17,
   "metadata": {},
   "outputs": [],
   "source": [
    "def cal_quantized_model(quantized_model):\n",
    "    cnt = 0\n",
    "    for k, v in quantized_model.items():\n",
    "        if 'qa_output.weight' == k:\n",
    "            cnt += np.prod(list(v.shape)) * 2\n",
    "        elif'weight' in k:\n",
    "            cnt += np.prod(list(v.shape)) * 1\n",
    "        elif 'quan_w_fn' or 'quan_a_fn' or 'bias' in k:\n",
    "            cnt += np.prod(list(v.shape)) * 4\n",
    "    quantized_model_mems = cnt\n",
    "    print(quantized_model_mems/(1024*1024))\n",
    "    return quantized_model_mems"
   ]
  },
  {
   "cell_type": "code",
   "execution_count": 18,
   "metadata": {},
   "outputs": [
    {
     "name": "stdout",
     "output_type": "stream",
     "text": [
      "320.2526626586914\n",
      "1274.4707107543945\n",
      "compression ratio is 25.128%\n"
     ]
    }
   ],
   "source": [
    "if __name__ == '__main__':\n",
    "    base_pth = '/tmp/debug_squad/pytorch_model.bin'\n",
    "    quantized_pth = '/root/code/quant/bsq-net/bsq/out/debug_squad_quan26/pytorch_model.bin'\n",
    "    base_model = torch.load(base_pth, map_location='cpu')\n",
    "    quantized_model = torch.load(quantized_pth, map_location='cpu')\n",
    "    quantized_model_mems = cal_quantized_model(quantized_model)\n",
    "    basemodel_mems = cal_base_model(base_model)\n",
    "    print(f'compression ratio is {quantized_model_mems/basemodel_mems * 100:.3f}%')"
   ]
  },
  {
   "cell_type": "code",
   "execution_count": null,
   "metadata": {},
   "outputs": [],
   "source": []
  }
 ],
 "metadata": {
  "kernelspec": {
   "display_name": "lsq",
   "language": "python",
   "name": "lsq"
  },
  "language_info": {
   "codemirror_mode": {
    "name": "ipython",
    "version": 3
   },
   "file_extension": ".py",
   "mimetype": "text/x-python",
   "name": "python",
   "nbconvert_exporter": "python",
   "pygments_lexer": "ipython3",
   "version": "3.8.8"
  }
 },
 "nbformat": 4,
 "nbformat_minor": 2
}
