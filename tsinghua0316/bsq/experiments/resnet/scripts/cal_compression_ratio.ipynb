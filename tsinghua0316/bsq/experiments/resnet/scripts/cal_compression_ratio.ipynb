{
 "cells": [
  {
   "cell_type": "code",
   "execution_count": 6,
   "metadata": {},
   "outputs": [],
   "source": [
    "import torch\n",
    "import numpy as np\n",
    "base_pth = '''/root/code/quant/bsq-net/bsq/out/resnet50_imagenet_baseline_20210908-154546/resnet50_imagenet_baseline_best.pth'''\n",
    "quantized_pth = '''/root/code/quant/bsq-net/bsq/out/resnet50_imagenet_a8w8_inference_20210908-113820/resnet50_imagenet_a8w8_inference_checkpoint.pth.tar'''\n",
    "qat_pth = '/root/code/quant/bsq-net/bsq/out/resnet50_imagenet_a8w8_20210910-152355/resnet50_imagenet_a8w8_best.pth'"
   ]
  },
  {
   "cell_type": "code",
   "execution_count": 7,
   "metadata": {},
   "outputs": [],
   "source": [
    "base_model = torch.load(base_pth, map_location='cpu')"
   ]
  },
  {
   "cell_type": "code",
   "execution_count": 8,
   "metadata": {},
   "outputs": [],
   "source": [
    "quantized_model = torch.load(quantized_pth, map_location='cpu')['state_dict']"
   ]
  },
  {
   "cell_type": "code",
   "execution_count": 9,
   "metadata": {},
   "outputs": [],
   "source": [
    "qat_model = torch.load(qat_pth, map_location='cpu')"
   ]
  },
  {
   "cell_type": "code",
   "execution_count": 12,
   "metadata": {},
   "outputs": [
    {
     "name": "stdout",
     "output_type": "stream",
     "text": [
      "97.69497680664062\n"
     ]
    }
   ],
   "source": [
    "cnt = 0\n",
    "for k, v in base_model.items():\n",
    "    if v.dim() >= 1:\n",
    "        cnt += np.prod(list(v.shape))\n",
    "basemodel_mems = cnt * 4\n",
    "print(basemodel_mems/(1024*1024))"
   ]
  },
  {
   "cell_type": "code",
   "execution_count": 13,
   "metadata": {},
   "outputs": [
    {
     "name": "stdout",
     "output_type": "stream",
     "text": [
      "24.731956481933594\n"
     ]
    }
   ],
   "source": [
    "cnt = 0\n",
    "for k, v in quantized_model.items():\n",
    "    if v.dim() >= 1:\n",
    "        v = np.prod(list(v.shape))\n",
    "        if 'weight' in k:\n",
    "            cnt += v\n",
    "        else:\n",
    "            cnt += 4 * v\n",
    "quantized_model_mems = cnt\n",
    "print(quantized_model_mems/(1024*1024))"
   ]
  },
  {
   "cell_type": "code",
   "execution_count": 14,
   "metadata": {},
   "outputs": [
    {
     "name": "stdout",
     "output_type": "stream",
     "text": [
      "24.824913024902344\n"
     ]
    }
   ],
   "source": [
    "cnt = 0\n",
    "for k, v in qat_model.items():\n",
    "    if 'iterth' in k:\n",
    "        continue\n",
    "    if v.dim() >= 1:\n",
    "        v = np.prod(list(v.shape))\n",
    "        if 'weight' in k and 'bn' not in k:\n",
    "            cnt += v\n",
    "        else:\n",
    "            cnt += 4 * v\n",
    "qat_mems = cnt\n",
    "print(qat_mems/(1024*1024))"
   ]
  },
  {
   "cell_type": "code",
   "execution_count": 15,
   "metadata": {},
   "outputs": [
    {
     "data": {
      "text/plain": [
       "0.25315484265770855"
      ]
     },
     "execution_count": 15,
     "metadata": {},
     "output_type": "execute_result"
    }
   ],
   "source": [
    "quantized_model_mems / basemodel_mems"
   ]
  },
  {
   "cell_type": "code",
   "execution_count": 16,
   "metadata": {},
   "outputs": [
    {
     "data": {
      "text/plain": [
       "0.2541063403294131"
      ]
     },
     "execution_count": 16,
     "metadata": {},
     "output_type": "execute_result"
    }
   ],
   "source": [
    "qat_mems/basemodel_mems"
   ]
  },
  {
   "cell_type": "code",
   "execution_count": null,
   "metadata": {},
   "outputs": [],
   "source": []
  }
 ],
 "metadata": {
  "kernelspec": {
   "display_name": "lsq",
   "language": "python",
   "name": "lsq"
  },
  "language_info": {
   "codemirror_mode": {
    "name": "ipython",
    "version": 3
   },
   "file_extension": ".py",
   "mimetype": "text/x-python",
   "name": "python",
   "nbconvert_exporter": "python",
   "pygments_lexer": "ipython3",
   "version": "3.8.8"
  }
 },
 "nbformat": 4,
 "nbformat_minor": 2
}
