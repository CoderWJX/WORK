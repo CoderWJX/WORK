{
 "cells": [
  {
   "cell_type": "code",
   "execution_count": 35,
   "metadata": {},
   "outputs": [],
   "source": [
    "import torch\n",
    "import numpy as np"
   ]
  },
  {
   "cell_type": "code",
   "execution_count": 21,
   "metadata": {},
   "outputs": [],
   "source": [
    "def cal_base_model(base_model):\n",
    "    cnt = 0\n",
    "    for k, v in base_model.items():\n",
    "        cnt += np.prod(list(v.shape))\n",
    "    basemodel_mems = cnt * 4\n",
    "    print(basemodel_mems/(1024*1024))\n",
    "    return basemodel_mems"
   ]
  },
  {
   "cell_type": "code",
   "execution_count": 33,
   "metadata": {},
   "outputs": [],
   "source": [
    "def cal_quantized_model(quantized_model):\n",
    "    cnt = 0\n",
    "    for k, v in quantized_model.items():\n",
    "        if 'predict_layer.weight' == k:\n",
    "            cnt += np.prod(list(v.shape)) * 4\n",
    "        elif  'weight' in k:\n",
    "            cnt += np.prod(list(v.shape)) * 1\n",
    "        elif 'quan_w_fn.s' or 'quan_a_fn.s' or 'bias' in k:\n",
    "            cnt += np.prod(list(v.shape)) * 4\n",
    "    quantized_model_mems = cnt\n",
    "    print(quantized_model_mems/(1024*1024))\n",
    "    return quantized_model_mems"
   ]
  },
  {
   "cell_type": "code",
   "execution_count": 34,
   "metadata": {},
   "outputs": [
    {
     "name": "stdout",
     "output_type": "stream",
     "text": [
      "1.5303916931152344\n",
      "6.113651275634766\n",
      "compression ratio is 25.032%\n"
     ]
    }
   ],
   "source": [
    "if __name__ == '__main__':\n",
    "    base_pth = '''/root/code/quant/bsq-net/bsq/out/ncf32merge-baseline_20211215-002258/ncf32merge-baseline_best.pth'''\n",
    "    quantized_pth = '''/root/code/quant/bsq-net/bsq/out/ncf32_20211215-005149/ncf32_best.pth'''\n",
    "    base_model = torch.load(base_pth, map_location='cpu')\n",
    "    quantized_model = torch.load(quantized_pth, map_location='cpu')\n",
    "    quantized_model_mems = cal_quantized_model(quantized_model)\n",
    "    basemodel_mems = cal_base_model(base_model)\n",
    "    print(f'compression ratio is {quantized_model_mems/basemodel_mems * 100:.3f}%')"
   ]
  },
  {
   "cell_type": "code",
   "execution_count": 28,
   "metadata": {},
   "outputs": [
    {
     "name": "stdout",
     "output_type": "stream",
     "text": [
      "odict_keys(['embed_user_GMF.weight', 'embed_user_GMF.t', 'embed_user_GMF.quan_w_fn.s', 'embed_item_GMF.weight', 'embed_item_GMF.t', 'embed_item_GMF.quan_w_fn.s', 'embed_user_MLP.weight', 'embed_user_MLP.t', 'embed_item_MLP.weight', 'embed_item_MLP.t', 'MLP_layers.1.weight', 'MLP_layers.1.bias', 'MLP_layers.1.t', 'MLP_layers.1.quan_w_fn.s', 'MLP_layers.1.quan_a_fn.s', 'MLP_layers.1.quan_a_fn.iterth', 'MLP_layers.4.weight', 'MLP_layers.4.bias', 'MLP_layers.4.t', 'MLP_layers.4.quan_w_fn.s', 'MLP_layers.4.quan_a_fn.s', 'MLP_layers.4.quan_a_fn.iterth', 'MLP_layers.7.weight', 'MLP_layers.7.bias', 'MLP_layers.7.t', 'MLP_layers.7.quan_w_fn.s', 'MLP_layers.7.quan_a_fn.s', 'MLP_layers.7.quan_a_fn.iterth', 'predict_layer.weight', 'predict_layer.bias', 'predict_layer.t'])\n"
     ]
    }
   ],
   "source": [
    "print(quantized_model.keys())"
   ]
  }
 ],
 "metadata": {
  "kernelspec": {
   "display_name": "lsq",
   "language": "python",
   "name": "lsq"
  },
  "language_info": {
   "codemirror_mode": {
    "name": "ipython",
    "version": 3
   },
   "file_extension": ".py",
   "mimetype": "text/x-python",
   "name": "python",
   "nbconvert_exporter": "python",
   "pygments_lexer": "ipython3",
   "version": "3.8.8"
  }
 },
 "nbformat": 4,
 "nbformat_minor": 2
}
